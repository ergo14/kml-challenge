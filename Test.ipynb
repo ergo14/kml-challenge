{
 "cells": [
  {
   "cell_type": "code",
   "execution_count": 18,
   "metadata": {},
   "outputs": [],
   "source": [
    "import numpy as np\n",
    "import pandas as pd\n",
    "import matplotlib.pyplot as plt\n",
    "import importlib\n",
    "\n",
    "from itertools import product"
   ]
  },
  {
   "cell_type": "markdown",
   "metadata": {},
   "source": [
    "All models assume the response variable is valued in {0, 1}."
   ]
  },
  {
   "cell_type": "code",
   "execution_count": 19,
   "metadata": {},
   "outputs": [],
   "source": [
    "from utils import get_numeric_data, get_text_data, compute_accuracy, prepare_numeric_data\n",
    "from spectrum_kernel import prepare_kspectrum_data\n",
    "from ridge_regression import RidgeRegression\n",
    "from logistic_regression import LogisticRegression\n",
    "from gaussian_ridge_regression import GaussianRidgeRegression\n",
    "from gaussian_logistic_regression import GaussianLogisticRegression\n",
    "from gaussian_svm import GaussianSVM\n",
    "\n",
    "\n",
    "# # Uncomment this part if you modify any of the *.py files. This will allow the notebook to reload the files.\n",
    "# import utils\n",
    "# import spectrum_kernel\n",
    "# import ridge_regression\n",
    "# import logistic_regression\n",
    "# import gaussian_ridge_regression\n",
    "# import gaussian_logistic_regression\n",
    "# import gaussian_svm\n",
    "\n",
    "# importlib.reload(utils)\n",
    "# importlib.reload(ridge_regression)\n",
    "# importlib.reload(logistic_regression)\n",
    "# importlib.reload(gaussian_ridge_regression)\n",
    "# importlib.reload(gaussian_svm)\n",
    "# importlib.reload(spectrum_kernel)\n",
    "\n",
    "\n",
    "# print('Reloaded Modules.')\n"
   ]
  },
  {
   "cell_type": "markdown",
   "metadata": {},
   "source": [
    "# 1) Ridge Regression"
   ]
  },
  {
   "cell_type": "markdown",
   "metadata": {},
   "source": [
    "## Dataset 0"
   ]
  },
  {
   "cell_type": "code",
   "execution_count": null,
   "metadata": {},
   "outputs": [],
   "source": [
    "X_train, y_train, X_val, y_val, X_te = prepare_numeric_data(\n",
    "    dataset=0,\n",
    "    path='data',\n",
    "    scale_method='minmax',\n",
    "    with_intercept=False,\n",
    "    num_train=1500,\n",
    ")\n",
    "\n",
    "model = RidgeRegression(lam=28.828).fit(X_train, y_train)\n",
    "\n",
    "in_sample_acc = compute_accuracy(model, X_train, y_train)\n",
    "out_sample_acc = compute_accuracy(model, X_val, y_val)\n",
    "\n",
    "\n",
    "print('In  Sample:', round(in_sample_acc, 3))\n",
    "print('Out Sample:', round(out_sample_acc, 3))\n"
   ]
  },
  {
   "cell_type": "markdown",
   "metadata": {},
   "source": [
    "## Dataset 1"
   ]
  },
  {
   "cell_type": "code",
   "execution_count": null,
   "metadata": {},
   "outputs": [],
   "source": [
    "X_train, y_train, X_val, y_val, X_te = prepare_numeric_data(\n",
    "    dataset=1,\n",
    "    path='data',\n",
    "    scale_method='minmax',\n",
    "    with_intercept=False,\n",
    "    num_train=1500,\n",
    ")\n",
    "\n",
    "model = RidgeRegression(lam=23).fit(X_train, y_train)\n",
    "\n",
    "in_sample_acc = compute_accuracy(model, X_train, y_train)\n",
    "out_sample_acc = compute_accuracy(model, X_val, y_val)\n",
    "\n",
    "print('In  Sample:', round(in_sample_acc, 3))\n",
    "print('Out Sample:', round(out_sample_acc, 3))"
   ]
  },
  {
   "cell_type": "markdown",
   "metadata": {},
   "source": [
    "## Dataset 2"
   ]
  },
  {
   "cell_type": "code",
   "execution_count": null,
   "metadata": {},
   "outputs": [],
   "source": [
    "X_train, y_train, X_val, y_val, X_te = prepare_numeric_data(\n",
    "    dataset=2,\n",
    "    path='data',\n",
    "    scale_method='minmax',\n",
    "    with_intercept=False,\n",
    "    num_train=1500,\n",
    ")\n",
    "\n",
    "model = RidgeRegression(lam=2.3).fit(X_train, y_train)\n",
    "\n",
    "in_sample_acc = compute_accuracy(model, X_train, y_train)\n",
    "out_sample_acc = compute_accuracy(model, X_val, y_val)\n",
    "\n",
    "print('In  Sample:', round(in_sample_acc, 3))\n",
    "print('Out Sample:', round(out_sample_acc, 3))"
   ]
  },
  {
   "cell_type": "markdown",
   "metadata": {},
   "source": [
    "# 2) Logistic Regression"
   ]
  },
  {
   "cell_type": "markdown",
   "metadata": {},
   "source": [
    "# Dataset 0"
   ]
  },
  {
   "cell_type": "code",
   "execution_count": null,
   "metadata": {},
   "outputs": [],
   "source": [
    "X_train, y_train, X_val, y_val, X_te = prepare_numeric_data(\n",
    "    dataset=0,\n",
    "    path='data',\n",
    "    scale_method='minmax',\n",
    "    with_intercept=False,\n",
    "    num_train=1500,\n",
    ")\n",
    "\n",
    "model = LogisticRegression(beta=0.9, noisy=False).fit(X_train, y_train)\n",
    "\n",
    "\n",
    "in_sample_acc = compute_accuracy(model, X_train, y_train)\n",
    "out_sample_acc = compute_accuracy(model, X_val, y_val)\n",
    "\n",
    "print('In  Sample:', round(in_sample_acc, 3))\n",
    "print('Out Sample:', round(out_sample_acc, 3))"
   ]
  },
  {
   "cell_type": "markdown",
   "metadata": {},
   "source": [
    "# Dataset 1"
   ]
  },
  {
   "cell_type": "code",
   "execution_count": null,
   "metadata": {},
   "outputs": [],
   "source": [
    "X_train, y_train, X_val, y_val, X_te = prepare_numeric_data(\n",
    "    dataset=1,\n",
    "    path='data',\n",
    "    scale_method='minmax',\n",
    "    with_intercept=False,\n",
    "    num_train=1500,\n",
    ")\n",
    "\n",
    "model = LogisticRegression(beta=0.9, noisy=False).fit(X_train, y_train)\n",
    "\n",
    "\n",
    "in_sample_acc = compute_accuracy(model, X_train, y_train)\n",
    "\n",
    "out_sample_acc = compute_accuracy(model, X_val, y_val)\n",
    "\n",
    "print('In  Sample:', round(in_sample_acc, 3))\n",
    "print('Out Sample:', round(out_sample_acc, 3))"
   ]
  },
  {
   "cell_type": "markdown",
   "metadata": {},
   "source": [
    "# Dataset 2"
   ]
  },
  {
   "cell_type": "code",
   "execution_count": null,
   "metadata": {},
   "outputs": [],
   "source": [
    "X_train, y_train, X_val, y_val, X_te = prepare_numeric_data(\n",
    "    dataset=2,\n",
    "    path='data',\n",
    "    scale_method='minmax',\n",
    "    with_intercept=False,\n",
    "    num_train=1500,\n",
    ")\n",
    "\n",
    "model = LogisticRegression(beta=0.9, noisy=False).fit(X_train, y_train)\n",
    "\n",
    "\n",
    "in_sample_acc = compute_accuracy(model, X_train, y_train)\n",
    "\n",
    "out_sample_acc = compute_accuracy(model, X_val, y_val)\n",
    "\n",
    "print('In  Sample:', round(in_sample_acc, 3))\n",
    "print('Out Sample:', round(out_sample_acc, 3))"
   ]
  },
  {
   "cell_type": "markdown",
   "metadata": {},
   "source": [
    "# 3) Gaussian Ridge Regression"
   ]
  },
  {
   "cell_type": "markdown",
   "metadata": {},
   "source": [
    "## Dataset 0"
   ]
  },
  {
   "cell_type": "code",
   "execution_count": null,
   "metadata": {},
   "outputs": [],
   "source": [
    "X_train, y_train, X_val, y_val, X_te = prepare_numeric_data(\n",
    "    dataset=0,\n",
    "    path='data',\n",
    "    scale_method='minmax',\n",
    "    with_intercept=False,\n",
    "    num_train=1500,\n",
    ")\n",
    "\n",
    "model = GaussianRidgeRegression(lam=28, l=0.0095).fit(X_train, y_train)\n",
    "\n",
    "in_sample_acc = compute_accuracy(model, X_train, y_train)\n",
    "out_sample_acc = compute_accuracy(model, X_val, y_val)\n",
    "\n",
    "print('In  Sample:', round(in_sample_acc, 3))\n",
    "print('Out Sample:', round(out_sample_acc, 3))\n"
   ]
  },
  {
   "cell_type": "markdown",
   "metadata": {},
   "source": [
    "## Dataset 1"
   ]
  },
  {
   "cell_type": "code",
   "execution_count": null,
   "metadata": {},
   "outputs": [],
   "source": [
    "X_train, y_train, X_val, y_val, X_te = prepare_numeric_data(\n",
    "    dataset=1,\n",
    "    path='data',\n",
    "    scale_method='minmax',\n",
    "    with_intercept=False,\n",
    "    num_train=1500,\n",
    ")\n",
    "\n",
    "model = GaussianRidgeRegression(lam=23, l=0.15).fit(X_train, y_train)\n",
    "\n",
    "in_sample_acc = compute_accuracy(model, X_train, y_train)\n",
    "out_sample_acc = compute_accuracy(model, X_val, y_val)\n",
    "\n",
    "print('In  Sample:', round(in_sample_acc, 3))\n",
    "print('Out Sample:', round(out_sample_acc, 3))"
   ]
  },
  {
   "cell_type": "markdown",
   "metadata": {},
   "source": [
    "## Dataset 2"
   ]
  },
  {
   "cell_type": "code",
   "execution_count": null,
   "metadata": {},
   "outputs": [],
   "source": [
    "X_train, y_train, X_val, y_val, X_te = prepare_numeric_data(\n",
    "    dataset=2,\n",
    "    path='data',\n",
    "    scale_method='minmax',\n",
    "    with_intercept=False,\n",
    "    num_train=1500,\n",
    ")\n",
    "\n",
    "model = GaussianRidgeRegression(lam=2.3, l=0.016).fit(X_train, y_train)\n",
    "\n",
    "in_sample_acc = compute_accuracy(model, X_train, y_train)\n",
    "out_sample_acc = compute_accuracy(model, X_val, y_val)\n",
    "\n",
    "print('In  Sample:', round(in_sample_acc, 3))\n",
    "print('Out Sample:', round(out_sample_acc, 3))"
   ]
  },
  {
   "cell_type": "markdown",
   "metadata": {},
   "source": [
    "# 4) Gaussian Logistic Regression"
   ]
  },
  {
   "cell_type": "markdown",
   "metadata": {},
   "source": [
    "## Dataset 0"
   ]
  },
  {
   "cell_type": "code",
   "execution_count": null,
   "metadata": {},
   "outputs": [],
   "source": [
    "X_train, y_train, X_val, y_val, X_te = prepare_numeric_data(\n",
    "    dataset=0,\n",
    "    path='data',\n",
    "    scale_method='minmax',\n",
    "    with_intercept=False,\n",
    "    num_train=1500,\n",
    ")\n",
    "\n",
    "model = GaussianLogisticRegression(lam=10, l=0.45).fit(X_train, y_train)\n",
    "\n",
    "in_sample_acc = compute_accuracy(model, X_train, y_train)\n",
    "out_sample_acc = compute_accuracy(model, X_val, y_val)\n",
    "\n",
    "print('In  Sample:', round(in_sample_acc, 3))\n",
    "print('Out Sample:', round(out_sample_acc, 3))"
   ]
  },
  {
   "cell_type": "markdown",
   "metadata": {},
   "source": [
    "## Dataset 1"
   ]
  },
  {
   "cell_type": "code",
   "execution_count": null,
   "metadata": {},
   "outputs": [],
   "source": [
    "X_train, y_train, X_val, y_val, X_te = prepare_numeric_data(\n",
    "    dataset=1,\n",
    "    path='data',\n",
    "    scale_method='minmax',\n",
    "    with_intercept=False,\n",
    "    num_train=1500,\n",
    ")\n",
    "\n",
    "model = GaussianLogisticRegression(lam=10, l=1.2).fit(X_train, y_train)\n",
    "\n",
    "in_sample_acc = compute_accuracy(model, X_train, y_train)\n",
    "out_sample_acc = compute_accuracy(model, X_val, y_val)\n",
    "\n",
    "print('In  Sample:', round(in_sample_acc, 3))\n",
    "print('Out Sample:', round(out_sample_acc, 3))"
   ]
  },
  {
   "cell_type": "markdown",
   "metadata": {},
   "source": [
    "## Dataset 2"
   ]
  },
  {
   "cell_type": "code",
   "execution_count": null,
   "metadata": {},
   "outputs": [],
   "source": [
    "X_train, y_train, X_val, y_val, X_te = prepare_numeric_data(\n",
    "    dataset=2,\n",
    "    path='data',\n",
    "    scale_method='minmax',\n",
    "    with_intercept=False,\n",
    "    num_train=1500,\n",
    ")\n",
    "\n",
    "model = GaussianLogisticRegression(lam=10, l=0.35).fit(X_train, y_train)\n",
    "\n",
    "in_sample_acc = compute_accuracy(model, X_train, y_train)\n",
    "out_sample_acc = compute_accuracy(model, X_val, y_val)\n",
    "\n",
    "print('In  Sample:', round(in_sample_acc, 3))\n",
    "print('Out Sample:', round(out_sample_acc, 3))\n"
   ]
  },
  {
   "cell_type": "markdown",
   "metadata": {},
   "source": [
    "# 5) Gaussian SVM"
   ]
  },
  {
   "cell_type": "markdown",
   "metadata": {},
   "source": [
    "## Dataset 0"
   ]
  },
  {
   "cell_type": "code",
   "execution_count": 68,
   "metadata": {},
   "outputs": [
    {
     "name": "stdout",
     "output_type": "stream",
     "text": [
      "In  Sample: 1.0\n",
      "Out Sample: 0.628\n"
     ]
    }
   ],
   "source": [
    "X_train, y_train, X_val, y_val, X_te = prepare_numeric_data(\n",
    "    dataset=0,\n",
    "    path='data',\n",
    "    scale_method='minmax',\n",
    "    with_intercept=False,\n",
    "    num_train=1500,\n",
    ")\n",
    "\n",
    "model = GaussianSVM(C=1, l=0.55).fit(X_train, y_train)\n",
    "\n",
    "in_sample_acc = compute_accuracy(model, X_train, y_train)\n",
    "out_sample_acc = compute_accuracy(model, X_val, y_val)\n",
    "\n",
    "print('In  Sample:', round(in_sample_acc, 3))\n",
    "print('Out Sample:', round(out_sample_acc, 3))"
   ]
  },
  {
   "cell_type": "markdown",
   "metadata": {},
   "source": [
    "## Dataset 1"
   ]
  },
  {
   "cell_type": "code",
   "execution_count": 69,
   "metadata": {},
   "outputs": [
    {
     "name": "stdout",
     "output_type": "stream",
     "text": [
      "In  Sample: 0.887\n",
      "Out Sample: 0.606\n"
     ]
    }
   ],
   "source": [
    "X_train, y_train, X_val, y_val, X_te = prepare_numeric_data(\n",
    "    dataset=1,\n",
    "    path='data',\n",
    "    scale_method='minmax',\n",
    "    with_intercept=False,\n",
    "    num_train=1500,\n",
    ")\n",
    "\n",
    "model = GaussianSVM(C=1, l=1.15).fit(X_train, y_train)\n",
    "\n",
    "in_sample_acc = compute_accuracy(model, X_train, y_train)\n",
    "out_sample_acc = compute_accuracy(model, X_val, y_val)\n",
    "\n",
    "print('In  Sample:', round(in_sample_acc, 3))\n",
    "print('Out Sample:', round(out_sample_acc, 3))"
   ]
  },
  {
   "cell_type": "markdown",
   "metadata": {},
   "source": [
    "## Dataset 2"
   ]
  },
  {
   "cell_type": "code",
   "execution_count": 70,
   "metadata": {},
   "outputs": [
    {
     "name": "stdout",
     "output_type": "stream",
     "text": [
      "In  Sample: 0.914\n",
      "Out Sample: 0.706\n"
     ]
    }
   ],
   "source": [
    "X_train, y_train, X_val, y_val, X_te = prepare_numeric_data(\n",
    "    dataset=2,\n",
    "    path='data',\n",
    "    scale_method='minmax',\n",
    "    with_intercept=False,\n",
    "    num_train=1500,\n",
    ")\n",
    "\n",
    "model = GaussianSVM(C=1.1, l=1.17).fit(X_train, y_train)\n",
    "\n",
    "in_sample_acc = compute_accuracy(model, X_train, y_train)\n",
    "out_sample_acc = compute_accuracy(model, X_val, y_val)\n",
    "\n",
    "print('In  Sample:', round(in_sample_acc, 3))\n",
    "print('Out Sample:', round(out_sample_acc, 3))"
   ]
  },
  {
   "cell_type": "markdown",
   "metadata": {},
   "source": [
    "# 6) k-Spectrum kernels"
   ]
  },
  {
   "cell_type": "markdown",
   "metadata": {},
   "source": [
    "## Dataset 0"
   ]
  },
  {
   "cell_type": "code",
   "execution_count": 27,
   "metadata": {},
   "outputs": [
    {
     "name": "stdout",
     "output_type": "stream",
     "text": [
      "In  Sample: 1.0\n",
      "Out Sample: 0.522\n"
     ]
    }
   ],
   "source": [
    "X_train, y_train, X_val, y_val, X_te = prepare_kspectrum_data(\n",
    "    dataset=0,\n",
    "    path='data',\n",
    "    k=6,\n",
    "    scale_method='minmax',\n",
    "    with_intercept=False,\n",
    "    num_train=1500,\n",
    ")\n",
    "\n",
    "model = GaussianRidgeRegression(lam=0.12, l='auto').fit(X_train, y_train)\n",
    "\n",
    "in_sample_acc = compute_accuracy(model, X_train, y_train)\n",
    "out_sample_acc = compute_accuracy(model, X_val, y_val)\n",
    "\n",
    "print('In  Sample:', round(in_sample_acc, 3))\n",
    "print('Out Sample:', round(out_sample_acc, 3))"
   ]
  },
  {
   "cell_type": "code",
   "execution_count": 21,
   "metadata": {},
   "outputs": [
    {
     "name": "stdout",
     "output_type": "stream",
     "text": [
      "In  Sample: 0.642\n",
      "Out Sample: 0.562\n"
     ]
    }
   ],
   "source": [
    "X_train, y_train, X_val, y_val, X_te = prepare_kspectrum_data(\n",
    "    dataset=0,\n",
    "    path='data',\n",
    "    k=3,\n",
    "    scale_method='minmax',\n",
    "    with_intercept=False,\n",
    "    num_train=1500,\n",
    ")\n",
    "\n",
    "model = LogisticRegression().fit(X_train, y_train)\n",
    "\n",
    "in_sample_acc = compute_accuracy(model, X_train, y_train)\n",
    "out_sample_acc = compute_accuracy(model, X_val, y_val)\n",
    "\n",
    "print('In  Sample:', round(in_sample_acc, 3))\n",
    "print('Out Sample:', round(out_sample_acc, 3))"
   ]
  },
  {
   "cell_type": "code",
   "execution_count": 22,
   "metadata": {},
   "outputs": [
    {
     "name": "stdout",
     "output_type": "stream",
     "text": [
      "In  Sample: 1.0\n",
      "Out Sample: 0.516\n"
     ]
    }
   ],
   "source": [
    "X_train, y_train, X_val, y_val, X_te = prepare_kspectrum_data(\n",
    "    dataset=0,\n",
    "    path='data',\n",
    "    k=3,\n",
    "    scale_method='minmax',\n",
    "    with_intercept=False,\n",
    "    num_train=1500,\n",
    ")\n",
    "\n",
    "model = GaussianLogisticRegression(lam=10, l=0.001).fit(X_train, y_train)\n",
    "\n",
    "in_sample_acc = compute_accuracy(model, X_train, y_train)\n",
    "out_sample_acc = compute_accuracy(model, X_val, y_val)\n",
    "\n",
    "print('In  Sample:', round(in_sample_acc, 3))\n",
    "print('Out Sample:', round(out_sample_acc, 3))"
   ]
  },
  {
   "cell_type": "markdown",
   "metadata": {},
   "source": [
    "# Submissions"
   ]
  },
  {
   "cell_type": "markdown",
   "metadata": {},
   "source": [
    "## Submission #1"
   ]
  },
  {
   "cell_type": "code",
   "execution_count": null,
   "metadata": {},
   "outputs": [],
   "source": [
    "X_train, y_train, X_val, y_val, X_te = prepare_numeric_data(\n",
    "    dataset=0,\n",
    "    path='data',\n",
    "    scale_method='minmax',\n",
    "    with_intercept=False,\n",
    "    num_train=1500,\n",
    ")\n",
    "\n",
    "model = GaussianSVM(C=1, l=0.55).fit(X_train, y_train)\n",
    "prediction_0 = model.predict_class(X_te)"
   ]
  },
  {
   "cell_type": "code",
   "execution_count": null,
   "metadata": {},
   "outputs": [],
   "source": [
    "X_train, y_train, X_val, y_val, X_te = prepare_numeric_data(\n",
    "    dataset=1,\n",
    "    path='data',\n",
    "    scale_method='minmax',\n",
    "    with_intercept=False,\n",
    "    num_train=1500,\n",
    ")\n",
    "\n",
    "model = GaussianSVM(C=1, l=1.15).fit(X_train, y_train)\n",
    "prediction_1 = model.predict_class(X_te)"
   ]
  },
  {
   "cell_type": "code",
   "execution_count": null,
   "metadata": {},
   "outputs": [],
   "source": [
    "X_train, y_train, X_val, y_val, X_te = prepare_numeric_data(\n",
    "    dataset=2,\n",
    "    path='data',\n",
    "    scale_method='minmax',\n",
    "    with_intercept=False,\n",
    "    num_train=1500,\n",
    ")\n",
    "\n",
    "model = GaussianSVM(C=1.1, l=1.17).fit(X_train, y_train)\n",
    "prediction_2 = model.predict_class(X_te)"
   ]
  },
  {
   "cell_type": "code",
   "execution_count": null,
   "metadata": {},
   "outputs": [],
   "source": [
    "prediction_arr = np.concatenate(list(map(lambda x: x.reshape(-1), [prediction_0, prediction_1, prediction_2])))\n",
    "prediction_df = pd.DataFrame(prediction_arr)\n",
    "prediction_df.rename(columns={0: 'Bound'}, inplace=True)\n",
    "prediction_df"
   ]
  },
  {
   "cell_type": "markdown",
   "metadata": {},
   "source": [
    "## Submission 2"
   ]
  },
  {
   "cell_type": "code",
   "execution_count": null,
   "metadata": {},
   "outputs": [],
   "source": [
    "X_train, y_train, X_val, y_val, X_te = prepare_numeric_data(\n",
    "    dataset=0,\n",
    "    path='data',\n",
    "    scale_method='minmax',\n",
    "    with_intercept=False,\n",
    "    num_train=1500,\n",
    ")\n",
    "\n",
    "model = GaussianLogisticRegression(lam=10, l=0.45).fit(X_train, y_train)\n",
    "prediction_0 = model.predict_class(X_te)"
   ]
  },
  {
   "cell_type": "code",
   "execution_count": null,
   "metadata": {},
   "outputs": [],
   "source": [
    "X_train, y_train, X_val, y_val, X_te = prepare_numeric_data(\n",
    "    dataset=1,\n",
    "    path='data',\n",
    "    scale_method='minmax',\n",
    "    with_intercept=False,\n",
    "    num_train=1500,\n",
    ")\n",
    "\n",
    "model = GaussianSVM(C=1, l=1.15).fit(X_train, y_train)\n",
    "prediction_1 = model.predict_class(X_te)"
   ]
  },
  {
   "cell_type": "code",
   "execution_count": null,
   "metadata": {},
   "outputs": [],
   "source": [
    "X_train, y_train, X_val, y_val, X_te = prepare_numeric_data(\n",
    "    dataset=2,\n",
    "    path='data',\n",
    "    scale_method='minmax',\n",
    "    with_intercept=False,\n",
    "    num_train=1500,\n",
    ")\n",
    "\n",
    "model = GaussianRidgeRegression(lam=2.3, l=0.016).fit(X_train, y_train)\n",
    "prediction_2 = model.predict_class(X_te)"
   ]
  },
  {
   "cell_type": "code",
   "execution_count": null,
   "metadata": {},
   "outputs": [],
   "source": [
    "prediction_arr = np.concatenate(list(map(lambda x: x.reshape(-1), [prediction_0, prediction_1, prediction_2])))\n",
    "prediction_df = pd.DataFrame(prediction_arr)\n",
    "prediction_df.rename(columns={0: 'Bound'}, inplace=True)\n",
    "prediction_df"
   ]
  },
  {
   "cell_type": "markdown",
   "metadata": {},
   "source": [
    "# Submission 3"
   ]
  },
  {
   "cell_type": "code",
   "execution_count": 62,
   "metadata": {},
   "outputs": [],
   "source": [
    "class VotingClassifier:\n",
    "    def __init__(self, models):\n",
    "        self.models = models\n",
    "    \n",
    "    def fit(self, X, y):\n",
    "        self.models = [model.fit(X, y) for model in self.models]\n",
    "        return self\n",
    "\n",
    "    def predict_class(self, X):\n",
    "        predictions = np.array([model.predict_class(X) for model in self.models])\n",
    "        return (predictions.mean(axis=0) > 0.5).astype(int)\n",
    "\n",
    "\n",
    "class AverageClassifier:\n",
    "    def __init__(self, models):\n",
    "        self.models = models\n",
    "    \n",
    "    def fit(self, X, y):\n",
    "        self.models = [model.fit(X, y) for model in self.models]\n",
    "        return self\n",
    "    \n",
    "    def predict(self, X):\n",
    "        return np.array([model.predict(X) for model in self.models]).mean(axis=0)\n",
    "    \n",
    "    def predict_class(self, X):\n",
    "        return ((1 + np.sign(self.predict(X))) / 2).astype(int)\n"
   ]
  },
  {
   "cell_type": "markdown",
   "metadata": {},
   "source": [
    "## Dataset 0"
   ]
  },
  {
   "cell_type": "code",
   "execution_count": 84,
   "metadata": {},
   "outputs": [
    {
     "name": "stdout",
     "output_type": "stream",
     "text": [
      "In  Sample: 1.0\n",
      "Out Sample: 0.628\n"
     ]
    }
   ],
   "source": [
    "X_train, y_train, X_val, y_val, X_te = prepare_numeric_data(\n",
    "    dataset=0,\n",
    "    path='data',\n",
    "    scale_method='minmax',\n",
    "    with_intercept=False,\n",
    "    num_train=1500,\n",
    ")\n",
    "\n",
    "model = AverageClassifier(models=[\n",
    "    GaussianSVM(C=1, l=0.55),\n",
    "    GaussianLogisticRegression(lam=10, l=0.45),\n",
    "]).fit(X_train, y_train)\n",
    "\n",
    "in_sample_acc = compute_accuracy(model, X_train, y_train)\n",
    "out_sample_acc = compute_accuracy(model, X_val, y_val)\n",
    "\n",
    "prediction_0 = model.predict_class(X_te)\n",
    "\n",
    "print('In  Sample:', round(in_sample_acc, 3))\n",
    "print('Out Sample:', round(out_sample_acc, 3))"
   ]
  },
  {
   "cell_type": "markdown",
   "metadata": {},
   "source": [
    "## Dataset 1"
   ]
  },
  {
   "cell_type": "code",
   "execution_count": 85,
   "metadata": {},
   "outputs": [
    {
     "name": "stdout",
     "output_type": "stream",
     "text": [
      "In  Sample: 0.886\n",
      "Out Sample: 0.602\n"
     ]
    }
   ],
   "source": [
    "X_train, y_train, X_val, y_val, X_te = prepare_numeric_data(\n",
    "    dataset=1,\n",
    "    path='data',\n",
    "    scale_method='minmax',\n",
    "    with_intercept=False,\n",
    "    num_train=1500,\n",
    ")\n",
    "\n",
    "model = AverageClassifier(models=[\n",
    "    GaussianSVM(C=1, l=1.15),\n",
    "    GaussianRidgeRegression(lam=23, l=0.15),   \n",
    "]).fit(X_train, y_train)\n",
    "\n",
    "in_sample_acc = compute_accuracy(model, X_train, y_train)\n",
    "out_sample_acc = compute_accuracy(model, X_val, y_val)\n",
    "\n",
    "prediction_1 = model.predict_class(X_te)\n",
    "\n",
    "print('In  Sample:', round(in_sample_acc, 3))\n",
    "print('Out Sample:', round(out_sample_acc, 3))"
   ]
  },
  {
   "cell_type": "markdown",
   "metadata": {},
   "source": [
    "## Dataset 2"
   ]
  },
  {
   "cell_type": "code",
   "execution_count": 86,
   "metadata": {},
   "outputs": [
    {
     "name": "stdout",
     "output_type": "stream",
     "text": [
      "In  Sample: 0.949\n",
      "Out Sample: 0.708\n"
     ]
    }
   ],
   "source": [
    "X_train, y_train, X_val, y_val, X_te = prepare_numeric_data(\n",
    "    dataset=2,\n",
    "    path='data',\n",
    "    scale_method='minmax',\n",
    "    with_intercept=False,\n",
    "    num_train=1500,\n",
    ")\n",
    "\n",
    "model = AverageClassifier(models=[\n",
    "    GaussianSVM(C=1.1, l=1.17),\n",
    "    GaussianRidgeRegression(lam=2.3, l=0.016),   \n",
    "]).fit(X_train, y_train)\n",
    "\n",
    "in_sample_acc = compute_accuracy(model, X_train, y_train)\n",
    "out_sample_acc = compute_accuracy(model, X_val, y_val)\n",
    "\n",
    "prediction_2 = model.predict_class(X_te)\n",
    "\n",
    "print('In  Sample:', round(in_sample_acc, 3))\n",
    "print('Out Sample:', round(out_sample_acc, 3))"
   ]
  },
  {
   "cell_type": "code",
   "execution_count": 87,
   "metadata": {},
   "outputs": [
    {
     "data": {
      "text/html": [
       "<div>\n",
       "<style scoped>\n",
       "    .dataframe tbody tr th:only-of-type {\n",
       "        vertical-align: middle;\n",
       "    }\n",
       "\n",
       "    .dataframe tbody tr th {\n",
       "        vertical-align: top;\n",
       "    }\n",
       "\n",
       "    .dataframe thead th {\n",
       "        text-align: right;\n",
       "    }\n",
       "</style>\n",
       "<table border=\"1\" class=\"dataframe\">\n",
       "  <thead>\n",
       "    <tr style=\"text-align: right;\">\n",
       "      <th></th>\n",
       "      <th>Bound</th>\n",
       "    </tr>\n",
       "  </thead>\n",
       "  <tbody>\n",
       "    <tr>\n",
       "      <th>0</th>\n",
       "      <td>1</td>\n",
       "    </tr>\n",
       "    <tr>\n",
       "      <th>1</th>\n",
       "      <td>1</td>\n",
       "    </tr>\n",
       "    <tr>\n",
       "      <th>2</th>\n",
       "      <td>1</td>\n",
       "    </tr>\n",
       "    <tr>\n",
       "      <th>3</th>\n",
       "      <td>1</td>\n",
       "    </tr>\n",
       "    <tr>\n",
       "      <th>4</th>\n",
       "      <td>0</td>\n",
       "    </tr>\n",
       "    <tr>\n",
       "      <th>...</th>\n",
       "      <td>...</td>\n",
       "    </tr>\n",
       "    <tr>\n",
       "      <th>2995</th>\n",
       "      <td>0</td>\n",
       "    </tr>\n",
       "    <tr>\n",
       "      <th>2996</th>\n",
       "      <td>0</td>\n",
       "    </tr>\n",
       "    <tr>\n",
       "      <th>2997</th>\n",
       "      <td>0</td>\n",
       "    </tr>\n",
       "    <tr>\n",
       "      <th>2998</th>\n",
       "      <td>0</td>\n",
       "    </tr>\n",
       "    <tr>\n",
       "      <th>2999</th>\n",
       "      <td>1</td>\n",
       "    </tr>\n",
       "  </tbody>\n",
       "</table>\n",
       "<p>3000 rows × 1 columns</p>\n",
       "</div>"
      ],
      "text/plain": [
       "      Bound\n",
       "0         1\n",
       "1         1\n",
       "2         1\n",
       "3         1\n",
       "4         0\n",
       "...     ...\n",
       "2995      0\n",
       "2996      0\n",
       "2997      0\n",
       "2998      0\n",
       "2999      1\n",
       "\n",
       "[3000 rows x 1 columns]"
      ]
     },
     "execution_count": 87,
     "metadata": {},
     "output_type": "execute_result"
    }
   ],
   "source": [
    "prediction_arr = np.concatenate(list(map(lambda x: x.reshape(-1), [prediction_0, prediction_1, prediction_2])))\n",
    "prediction_df = pd.DataFrame(prediction_arr)\n",
    "prediction_df.rename(columns={0: 'Bound'}, inplace=True)\n",
    "prediction_df"
   ]
  },
  {
   "cell_type": "code",
   "execution_count": null,
   "metadata": {},
   "outputs": [],
   "source": []
  },
  {
   "cell_type": "code",
   "execution_count": null,
   "metadata": {},
   "outputs": [],
   "source": []
  },
  {
   "cell_type": "code",
   "execution_count": null,
   "metadata": {},
   "outputs": [],
   "source": []
  },
  {
   "cell_type": "code",
   "execution_count": null,
   "metadata": {},
   "outputs": [],
   "source": []
  },
  {
   "cell_type": "code",
   "execution_count": null,
   "metadata": {},
   "outputs": [],
   "source": []
  },
  {
   "cell_type": "markdown",
   "metadata": {},
   "source": [
    "# FOR ANY SUBMISSION COMPARE AGAINST THE ALREADY SUBMITTED FILES"
   ]
  },
  {
   "cell_type": "code",
   "execution_count": 91,
   "metadata": {},
   "outputs": [
    {
     "data": {
      "text/html": [
       "<div>\n",
       "<style scoped>\n",
       "    .dataframe tbody tr th:only-of-type {\n",
       "        vertical-align: middle;\n",
       "    }\n",
       "\n",
       "    .dataframe tbody tr th {\n",
       "        vertical-align: top;\n",
       "    }\n",
       "\n",
       "    .dataframe thead th {\n",
       "        text-align: right;\n",
       "    }\n",
       "</style>\n",
       "<table border=\"1\" class=\"dataframe\">\n",
       "  <thead>\n",
       "    <tr style=\"text-align: right;\">\n",
       "      <th></th>\n",
       "      <th>Bound</th>\n",
       "    </tr>\n",
       "    <tr>\n",
       "      <th>Id</th>\n",
       "      <th></th>\n",
       "    </tr>\n",
       "  </thead>\n",
       "  <tbody>\n",
       "    <tr>\n",
       "      <th>0</th>\n",
       "      <td>NaN</td>\n",
       "    </tr>\n",
       "    <tr>\n",
       "      <th>1</th>\n",
       "      <td>NaN</td>\n",
       "    </tr>\n",
       "    <tr>\n",
       "      <th>2</th>\n",
       "      <td>NaN</td>\n",
       "    </tr>\n",
       "    <tr>\n",
       "      <th>3</th>\n",
       "      <td>NaN</td>\n",
       "    </tr>\n",
       "    <tr>\n",
       "      <th>4</th>\n",
       "      <td>NaN</td>\n",
       "    </tr>\n",
       "    <tr>\n",
       "      <th>...</th>\n",
       "      <td>...</td>\n",
       "    </tr>\n",
       "    <tr>\n",
       "      <th>2995</th>\n",
       "      <td>NaN</td>\n",
       "    </tr>\n",
       "    <tr>\n",
       "      <th>2996</th>\n",
       "      <td>NaN</td>\n",
       "    </tr>\n",
       "    <tr>\n",
       "      <th>2997</th>\n",
       "      <td>NaN</td>\n",
       "    </tr>\n",
       "    <tr>\n",
       "      <th>2998</th>\n",
       "      <td>NaN</td>\n",
       "    </tr>\n",
       "    <tr>\n",
       "      <th>2999</th>\n",
       "      <td>NaN</td>\n",
       "    </tr>\n",
       "  </tbody>\n",
       "</table>\n",
       "<p>3000 rows × 1 columns</p>\n",
       "</div>"
      ],
      "text/plain": [
       "      Bound\n",
       "Id         \n",
       "0       NaN\n",
       "1       NaN\n",
       "2       NaN\n",
       "3       NaN\n",
       "4       NaN\n",
       "...     ...\n",
       "2995    NaN\n",
       "2996    NaN\n",
       "2997    NaN\n",
       "2998    NaN\n",
       "2999    NaN\n",
       "\n",
       "[3000 rows x 1 columns]"
      ]
     },
     "execution_count": 91,
     "metadata": {},
     "output_type": "execute_result"
    }
   ],
   "source": [
    "a1 = pd.read_csv('submission1.csv', index_col='Id')\n",
    "a2 = pd.read_csv('submission2.csv', index_col='Id')\n",
    "a3 = pd.read_csv('submission3.csv', index_col='Id')\n",
    "\n",
    "(a1 != a3).sum()\n",
    "\n",
    "\n",
    "a3[a3 != a1]"
   ]
  },
  {
   "cell_type": "code",
   "execution_count": 107,
   "metadata": {},
   "outputs": [
    {
     "data": {
      "text/plain": [
       "0.006666666666666667"
      ]
     },
     "execution_count": 107,
     "metadata": {},
     "output_type": "execute_result"
    }
   ],
   "source": [
    "(a3['Bound'] != a1['Bound']).mean()\n"
   ]
  }
 ],
 "metadata": {
  "kernelspec": {
   "display_name": "Python 3",
   "language": "python",
   "name": "python3"
  },
  "language_info": {
   "codemirror_mode": {
    "name": "ipython",
    "version": 3
   },
   "file_extension": ".py",
   "mimetype": "text/x-python",
   "name": "python",
   "nbconvert_exporter": "python",
   "pygments_lexer": "ipython3",
   "version": "3.7.7"
  }
 },
 "nbformat": 4,
 "nbformat_minor": 4
}
